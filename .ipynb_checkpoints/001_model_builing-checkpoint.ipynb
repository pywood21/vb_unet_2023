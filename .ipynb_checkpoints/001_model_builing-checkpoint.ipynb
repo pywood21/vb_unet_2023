{
 "cells": [
  {
   "cell_type": "markdown",
   "id": "446c6e4f-a5f0-4e22-982b-1a90fa6c5742",
   "metadata": {},
   "source": [
    "#### Codes for the papar by Tsuyama et al (2023) PlosOne\n",
    "#### 001 : Data preparation for UNET"
   ]
  },
  {
   "cell_type": "code",
   "execution_count": null,
   "id": "bf1fd544-7a20-46b5-a876-540f0a8f9387",
   "metadata": {},
   "outputs": [],
   "source": [
    "from common.data_prep import *\n",
    "from common.model import *\n",
    "# %matplotlib inline"
   ]
  },
  {
   "cell_type": "code",
   "execution_count": null,
   "id": "a7efcd6d-1bf3-4542-b08d-4801d999ef48",
   "metadata": {},
   "outputs": [],
   "source": [
    "# define your job number under _run directory\n",
    "job_num = '003'\n",
    "# set reduction_factor of the initial image \n",
    "r_f = 2\n",
    "# set unet training directory\n",
    "train_set = ['image','mask']\n",
    "#\n",
    "set_dir(os.path.join('./_run',job_num))\n",
    "set_dir(os.path.join('./_run',job_num,'model'))\n",
    "for ids in train_set:\n",
    "    set_dir(os.path.join('./_run',job_num, 'train', ids))\n",
    "set_dir(os.path.join('./_run',job_num,'segmentation')) # segmented VB areas in png\n",
    "set_dir(os.path.join('./_run',job_num,'morphology')) # calculated VB morphological parameters\n",
    "set_dir(os.path.join('./_run',job_num,'extracted_VB_images')) # extracted VBs along the radial positions"
   ]
  },
  {
   "cell_type": "code",
   "execution_count": null,
   "id": "b36b0439-c00e-469c-be92-0dfc146e46ef",
   "metadata": {},
   "outputs": [],
   "source": [
    "# prepare training set for unet\n",
    "path =\"./_original_png\"\n",
    "filenumbers, Images, Labels = make_unet_data(path, r_f)   \n",
    "\n",
    "n=0\n",
    "for i in list(range(len(filenumbers))):\n",
    "    for k in list(range(filenumbers[i])):\n",
    "        n += 1\n",
    "        #cv2.cvtColor(img_bgrL, cv2.COLOR_BGR2GRAY)\n",
    "        cv２.imwrite(os.path.join('./_run',job_num, 'train', train_set[0],str(n)+'.png'), Images[i][k][:])\n",
    "        cv２.imwrite(os.path.join('./_run',job_num, 'train', train_set[1],str(n)+'.png'), Labels[i][k][:])\n",
    "print(n, ' images were generated')"
   ]
  },
  {
   "cell_type": "markdown",
   "id": "5fbcf3de-093a-4811-947c-eea78a6e52cb",
   "metadata": {},
   "source": [
    "The following code generates the model for segmentation of vasucular bundles "
   ]
  },
  {
   "cell_type": "code",
   "execution_count": null,
   "id": "44989d80-bdaf-4565-b31a-bce966f846d7",
   "metadata": {},
   "outputs": [],
   "source": [
    "data_gen_args = dict(rotation_range=1,\n",
    "                    width_shift_range=0.1,\n",
    "                    height_shift_range=0.1,\n",
    "                    shear_range=0.1,\n",
    "                    zoom_range=0.1,\n",
    "                    horizontal_flip=True,\n",
    "                    fill_mode='nearest')\n",
    "myGene = trainGenerator(12,os.path.join('./_run',job_num, 'train'),'image','mask',data_gen_args,save_to_dir = None)\n",
    "model = unet()\n",
    "model_checkpoint = ModelCheckpoint(os.path.join('./_run',job_num, 'model','unet_moso_2.hdf5'), monitor='loss',verbose=1, save_best_only=True)\n",
    "model.fit_generator(myGene,steps_per_epoch=300,epochs=20,callbacks=[model_checkpoint])"
   ]
  },
  {
   "cell_type": "markdown",
   "id": "0f150f33-2f42-46b1-a44b-fcb9238d44a0",
   "metadata": {},
   "source": [
    "The end of codes"
   ]
  },
  {
   "cell_type": "code",
   "execution_count": null,
   "id": "8c48287a-b60f-4e95-a2b3-b9b93f0978d7",
   "metadata": {},
   "outputs": [],
   "source": []
  }
 ],
 "metadata": {
  "kernelspec": {
   "display_name": "JS",
   "language": "python",
   "name": "js"
  },
  "language_info": {
   "codemirror_mode": {
    "name": "ipython",
    "version": 3
   },
   "file_extension": ".py",
   "mimetype": "text/x-python",
   "name": "python",
   "nbconvert_exporter": "python",
   "pygments_lexer": "ipython3",
   "version": "3.7.7"
  }
 },
 "nbformat": 4,
 "nbformat_minor": 5
}
