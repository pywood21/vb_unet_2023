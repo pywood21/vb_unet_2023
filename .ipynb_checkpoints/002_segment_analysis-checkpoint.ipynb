{
 "cells": [
  {
   "cell_type": "markdown",
   "id": "3f934f2c-7259-4414-ac8f-6da7a42e76b7",
   "metadata": {},
   "source": [
    "### 002:  codes for segmentation"
   ]
  },
  {
   "cell_type": "markdown",
   "id": "734d6277-a4b9-44cf-af6e-0e19905c5dd4",
   "metadata": {},
   "source": [
    "Read microscope images in the target directory, split them into patch images and predict VB area using the UNET model.\n",
    "Generated segmented patches are then reassembled to the images and stored in r_target directory as original_filename+_predicted.png."
   ]
  },
  {
   "cell_type": "code",
   "execution_count": null,
   "id": "c3babe8f-7b37-4024-a812-bcdac363c0bc",
   "metadata": {},
   "outputs": [],
   "source": [
    "from common.data_prep import *\n",
    "from common.model import *\n",
    "from common.img_patch import *\n",
    "\n",
    "\n",
    "# target image for segmentation\n",
    "target = './_test'\n",
    "\n",
    "# define your job number under _run directory\n",
    "job_num = '001'\n",
    "# set reduction_factor of the initial image \n",
    "r_f = 2\n",
    "\n",
    "\n",
    "set_dir(os.path.join('./_run',job_num,'segmentation')) # segmented VB areas of test images\n",
    "#set_dir(os.path.join('./_run',job_num,'morphology')) # calculated VB morphological parameters\n",
    "#set_dir(os.path.join('./_run',job_num,'extracted_VB_images')) # extracted VBs along the radial positions\n",
    "\n",
    "           \n",
    "target ='./_test'\n",
    "r_target = os.path.join('./_run',job_num,'segmentation')\n",
    "\n",
    "\n",
    "file_list=sorted([filename for filename in os.listdir(target) if not filename.startswith('.')])\n",
    "\n",
    "\n",
    "for fln in range(len(file_list)):\n",
    "    img_path=os.path.join(target, file_list[fln])\n",
    "    res_path=os.path.join(r_target, file_list[fln])\n",
    "    img=io.imread(img_path, as_gray=True) # gray scale\n",
    "\n",
    "    # r_f=2 #factor of image reduction\n",
    "    px=int(img.shape[0]/r_f)\n",
    "    py=int(img.shape[1]/r_f)\n",
    "    img_s=trans.resize(img, (px,py))\n",
    "    # making image patch of 512*512 )\n",
    "    testdata = patch_Gen(img_s)\n",
    "    pos = patch_Counter(img_s)\n",
    "    # predicton of vascular bundles by UNET        \n",
    "    model = unet()\n",
    "    model.load_weights(os.path.join('./_run',job_num, 'model','unet_moso_2.hdf5'))\n",
    "    results = model.predict_generator(testdata,len(pos),verbose=1)\n",
    "    #saveResult(\"./prediction\",results)\n",
    "    # reassemble to the image\n",
    "    rec_img=patch_Assemble(img_s, results)\n",
    "    rec_img=img_as_ubyte(rec_img)\n",
    "    #　合成された画像を保存\n",
    "    cv2.imwrite(res_path.replace('.png', '_predicted.png'),rec_img)"
   ]
  },
  {
   "cell_type": "markdown",
   "id": "781e6731-93d7-4581-a6e6-07984aed3084",
   "metadata": {},
   "source": [
    "The end of codes"
   ]
  }
 ],
 "metadata": {
  "kernelspec": {
   "display_name": "JS",
   "language": "python",
   "name": "js"
  },
  "language_info": {
   "codemirror_mode": {
    "name": "ipython",
    "version": 3
   },
   "file_extension": ".py",
   "mimetype": "text/x-python",
   "name": "python",
   "nbconvert_exporter": "python",
   "pygments_lexer": "ipython3",
   "version": "3.7.7"
  }
 },
 "nbformat": 4,
 "nbformat_minor": 5
}
