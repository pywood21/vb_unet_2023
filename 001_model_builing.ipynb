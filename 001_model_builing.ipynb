{
 "cells": [
  {
   "cell_type": "markdown",
   "id": "446c6e4f-a5f0-4e22-982b-1a90fa6c5742",
   "metadata": {},
   "source": [
    "#### Codes for the papar by Tsuyama et al (2023) PlosOne\n",
    "#### 001 : Data preparation for UNET"
   ]
  },
  {
   "cell_type": "code",
   "execution_count": 1,
   "id": "bf1fd544-7a20-46b5-a876-540f0a8f9387",
   "metadata": {},
   "outputs": [],
   "source": [
    "from common.data_prep import *\n",
    "from common.model import *\n",
    "# %matplotlib inline"
   ]
  },
  {
   "cell_type": "code",
   "execution_count": 2,
   "id": "a7efcd6d-1bf3-4542-b08d-4801d999ef48",
   "metadata": {},
   "outputs": [],
   "source": [
    "# define your job number under _run directory\n",
    "job_num = '003'\n",
    "# set reduction_factor of the initial image \n",
    "r_f = 2\n",
    "# set unet training directory\n",
    "train_set = ['image','mask']\n",
    "#\n",
    "set_dir(os.path.join('./_run',job_num))\n",
    "set_dir(os.path.join('./_run',job_num,'model'))\n",
    "for ids in train_set:\n",
    "    set_dir(os.path.join('./_run',job_num, 'train', ids))\n",
    "set_dir(os.path.join('./_run',job_num,'segmentation')) # segmented VB areas in png\n",
    "set_dir(os.path.join('./_run',job_num,'morphology')) # calculated VB morphological parameters\n",
    "set_dir(os.path.join('./_run',job_num,'extracted_VB_images')) # extracted VBs along the radial positions"
   ]
  },
  {
   "cell_type": "code",
   "execution_count": 3,
   "id": "b36b0439-c00e-469c-be92-0dfc146e46ef",
   "metadata": {},
   "outputs": [
    {
     "name": "stdout",
     "output_type": "stream",
     "text": [
      "154  images were generated\n"
     ]
    }
   ],
   "source": [
    "# prepare training set for unet\n",
    "path =\"./_original_png\"\n",
    "filenumbers, Images, Labels = make_unet_data(path, r_f)   \n",
    "\n",
    "n=0\n",
    "for i in list(range(len(filenumbers))):\n",
    "    for k in list(range(filenumbers[i])):\n",
    "        n += 1\n",
    "        #cv2.cvtColor(img_bgrL, cv2.COLOR_BGR2GRAY)\n",
    "        cv２.imwrite(os.path.join('./_run',job_num, 'train', train_set[0],str(n)+'.png'), Images[i][k][:])\n",
    "        cv２.imwrite(os.path.join('./_run',job_num, 'train', train_set[1],str(n)+'.png'), Labels[i][k][:])\n",
    "print(n, ' images were generated')"
   ]
  },
  {
   "cell_type": "markdown",
   "id": "5fbcf3de-093a-4811-947c-eea78a6e52cb",
   "metadata": {},
   "source": [
    "The following code generates the model for segmentation of vasucular bundles "
   ]
  },
  {
   "cell_type": "code",
   "execution_count": 4,
   "id": "44989d80-bdaf-4565-b31a-bce966f846d7",
   "metadata": {},
   "outputs": [
    {
     "name": "stderr",
     "output_type": "stream",
     "text": [
      "2023-08-19 17:16:13.209740: I tensorflow/core/platform/cpu_feature_guard.cc:151] This TensorFlow binary is optimized with oneAPI Deep Neural Network Library (oneDNN) to use the following CPU instructions in performance-critical operations:  AVX2 AVX512F FMA\n",
      "To enable them in other operations, rebuild TensorFlow with the appropriate compiler flags.\n",
      "2023-08-19 17:16:14.715941: I tensorflow/core/common_runtime/gpu/gpu_device.cc:1525] Created device /job:localhost/replica:0/task:0/device:GPU:0 with 46717 MB memory:  -> device: 0, name: NVIDIA RTX A6000, pci bus id: 0000:1a:00.0, compute capability: 8.6\n",
      "2023-08-19 17:16:14.717666: I tensorflow/core/common_runtime/gpu/gpu_device.cc:1525] Created device /job:localhost/replica:0/task:0/device:GPU:1 with 46717 MB memory:  -> device: 1, name: NVIDIA RTX A6000, pci bus id: 0000:67:00.0, compute capability: 8.6\n",
      "2023-08-19 17:16:14.719292: I tensorflow/core/common_runtime/gpu/gpu_device.cc:1525] Created device /job:localhost/replica:0/task:0/device:GPU:2 with 46690 MB memory:  -> device: 2, name: NVIDIA RTX A6000, pci bus id: 0000:68:00.0, compute capability: 8.6\n",
      "/home/sugiyama/venv/JS/lib/python3.7/site-packages/ipykernel_launcher.py:11: UserWarning: `Model.fit_generator` is deprecated and will be removed in a future version. Please use `Model.fit`, which supports generators.\n",
      "  # This is added back by InteractiveShellApp.init_path()\n"
     ]
    },
    {
     "name": "stdout",
     "output_type": "stream",
     "text": [
      "Found 154 images belonging to 1 classes.\n",
      "Found 154 images belonging to 1 classes.\n",
      "Epoch 1/20\n"
     ]
    },
    {
     "name": "stderr",
     "output_type": "stream",
     "text": [
      "2023-08-19 17:16:18.362717: I tensorflow/stream_executor/cuda/cuda_dnn.cc:368] Loaded cuDNN version 8201\n"
     ]
    },
    {
     "name": "stdout",
     "output_type": "stream",
     "text": [
      "300/300 [==============================] - ETA: 0s - loss: 0.1963 - accuracy: 0.9353\n",
      "Epoch 1: loss improved from inf to 0.19635, saving model to ./_run/001/model/unet_moso_2.hdf5\n",
      "300/300 [==============================] - 65s 193ms/step - loss: 0.1963 - accuracy: 0.9353\n",
      "Epoch 2/20\n",
      "300/300 [==============================] - ETA: 0s - loss: 0.0574 - accuracy: 0.9763\n",
      "Epoch 2: loss improved from 0.19635 to 0.05742, saving model to ./_run/001/model/unet_moso_2.hdf5\n",
      "300/300 [==============================] - 56s 188ms/step - loss: 0.0574 - accuracy: 0.9763\n",
      "Epoch 3/20\n",
      "300/300 [==============================] - ETA: 0s - loss: 0.0518 - accuracy: 0.9783\n",
      "Epoch 3: loss improved from 0.05742 to 0.05183, saving model to ./_run/001/model/unet_moso_2.hdf5\n",
      "300/300 [==============================] - 56s 187ms/step - loss: 0.0518 - accuracy: 0.9783\n",
      "Epoch 4/20\n",
      "300/300 [==============================] - ETA: 0s - loss: 0.0493 - accuracy: 0.9792\n",
      "Epoch 4: loss improved from 0.05183 to 0.04927, saving model to ./_run/001/model/unet_moso_2.hdf5\n",
      "300/300 [==============================] - 56s 187ms/step - loss: 0.0493 - accuracy: 0.9792\n",
      "Epoch 5/20\n",
      "300/300 [==============================] - ETA: 0s - loss: 0.0484 - accuracy: 0.9795\n",
      "Epoch 5: loss improved from 0.04927 to 0.04845, saving model to ./_run/001/model/unet_moso_2.hdf5\n",
      "300/300 [==============================] - 56s 187ms/step - loss: 0.0484 - accuracy: 0.9795\n",
      "Epoch 6/20\n",
      "300/300 [==============================] - ETA: 0s - loss: 0.0471 - accuracy: 0.9800\n",
      "Epoch 6: loss improved from 0.04845 to 0.04714, saving model to ./_run/001/model/unet_moso_2.hdf5\n",
      "300/300 [==============================] - 56s 187ms/step - loss: 0.0471 - accuracy: 0.9800\n",
      "Epoch 7/20\n",
      "300/300 [==============================] - ETA: 0s - loss: 0.0476 - accuracy: 0.9798\n",
      "Epoch 7: loss did not improve from 0.04714\n",
      "300/300 [==============================] - 55s 184ms/step - loss: 0.0476 - accuracy: 0.9798\n",
      "Epoch 8/20\n",
      "300/300 [==============================] - ETA: 0s - loss: 0.0456 - accuracy: 0.9805\n",
      "Epoch 8: loss improved from 0.04714 to 0.04557, saving model to ./_run/001/model/unet_moso_2.hdf5\n",
      "300/300 [==============================] - 56s 187ms/step - loss: 0.0456 - accuracy: 0.9805\n",
      "Epoch 9/20\n",
      "300/300 [==============================] - ETA: 0s - loss: 0.0446 - accuracy: 0.9809\n",
      "Epoch 9: loss improved from 0.04557 to 0.04463, saving model to ./_run/001/model/unet_moso_2.hdf5\n",
      "300/300 [==============================] - 56s 187ms/step - loss: 0.0446 - accuracy: 0.9809\n",
      "Epoch 10/20\n",
      "300/300 [==============================] - ETA: 0s - loss: 0.0443 - accuracy: 0.9810\n",
      "Epoch 10: loss improved from 0.04463 to 0.04425, saving model to ./_run/001/model/unet_moso_2.hdf5\n",
      "300/300 [==============================] - 56s 187ms/step - loss: 0.0443 - accuracy: 0.9810\n",
      "Epoch 11/20\n",
      "300/300 [==============================] - ETA: 0s - loss: 0.0435 - accuracy: 0.9813\n",
      "Epoch 11: loss improved from 0.04425 to 0.04347, saving model to ./_run/001/model/unet_moso_2.hdf5\n",
      "300/300 [==============================] - 56s 187ms/step - loss: 0.0435 - accuracy: 0.9813\n",
      "Epoch 12/20\n",
      "300/300 [==============================] - ETA: 0s - loss: 0.0429 - accuracy: 0.9815\n",
      "Epoch 12: loss improved from 0.04347 to 0.04287, saving model to ./_run/001/model/unet_moso_2.hdf5\n",
      "300/300 [==============================] - 56s 187ms/step - loss: 0.0429 - accuracy: 0.9815\n",
      "Epoch 13/20\n",
      "300/300 [==============================] - ETA: 0s - loss: 0.0457 - accuracy: 0.9806\n",
      "Epoch 13: loss did not improve from 0.04287\n",
      "300/300 [==============================] - 55s 183ms/step - loss: 0.0457 - accuracy: 0.9806\n",
      "Epoch 14/20\n",
      "300/300 [==============================] - ETA: 0s - loss: 0.0417 - accuracy: 0.9819\n",
      "Epoch 14: loss improved from 0.04287 to 0.04175, saving model to ./_run/001/model/unet_moso_2.hdf5\n",
      "300/300 [==============================] - 56s 187ms/step - loss: 0.0417 - accuracy: 0.9819\n",
      "Epoch 15/20\n",
      "300/300 [==============================] - ETA: 0s - loss: 0.0410 - accuracy: 0.9823\n",
      "Epoch 15: loss improved from 0.04175 to 0.04099, saving model to ./_run/001/model/unet_moso_2.hdf5\n",
      "300/300 [==============================] - 56s 187ms/step - loss: 0.0410 - accuracy: 0.9823\n",
      "Epoch 16/20\n",
      "300/300 [==============================] - ETA: 0s - loss: 0.0399 - accuracy: 0.9827\n",
      "Epoch 16: loss improved from 0.04099 to 0.03987, saving model to ./_run/001/model/unet_moso_2.hdf5\n",
      "300/300 [==============================] - 56s 187ms/step - loss: 0.0399 - accuracy: 0.9827\n",
      "Epoch 17/20\n",
      "300/300 [==============================] - ETA: 0s - loss: 0.0390 - accuracy: 0.9830\n",
      "Epoch 17: loss improved from 0.03987 to 0.03899, saving model to ./_run/001/model/unet_moso_2.hdf5\n",
      "300/300 [==============================] - 56s 187ms/step - loss: 0.0390 - accuracy: 0.9830\n",
      "Epoch 18/20\n",
      "300/300 [==============================] - ETA: 0s - loss: 0.0382 - accuracy: 0.9834\n",
      "Epoch 18: loss improved from 0.03899 to 0.03818, saving model to ./_run/001/model/unet_moso_2.hdf5\n",
      "300/300 [==============================] - 56s 187ms/step - loss: 0.0382 - accuracy: 0.9834\n",
      "Epoch 19/20\n",
      "300/300 [==============================] - ETA: 0s - loss: 0.0371 - accuracy: 0.9838\n",
      "Epoch 19: loss improved from 0.03818 to 0.03713, saving model to ./_run/001/model/unet_moso_2.hdf5\n",
      "300/300 [==============================] - 56s 187ms/step - loss: 0.0371 - accuracy: 0.9838\n",
      "Epoch 20/20\n",
      "300/300 [==============================] - ETA: 0s - loss: 0.0359 - accuracy: 0.9843\n",
      "Epoch 20: loss improved from 0.03713 to 0.03592, saving model to ./_run/001/model/unet_moso_2.hdf5\n",
      "300/300 [==============================] - 56s 187ms/step - loss: 0.0359 - accuracy: 0.9843\n"
     ]
    },
    {
     "data": {
      "text/plain": [
       "<keras.callbacks.History at 0x15310c3af150>"
      ]
     },
     "execution_count": 4,
     "metadata": {},
     "output_type": "execute_result"
    }
   ],
   "source": [
    "data_gen_args = dict(rotation_range=1,\n",
    "                    width_shift_range=0.1,\n",
    "                    height_shift_range=0.1,\n",
    "                    shear_range=0.1,\n",
    "                    zoom_range=0.1,\n",
    "                    horizontal_flip=True,\n",
    "                    fill_mode='nearest')\n",
    "myGene = trainGenerator(12,os.path.join('./_run',job_num, 'train'),'image','mask',data_gen_args,save_to_dir = None)\n",
    "model = unet()\n",
    "model_checkpoint = ModelCheckpoint(os.path.join('./_run',job_num, 'model','unet_moso_2.hdf5'), monitor='loss',verbose=1, save_best_only=True)\n",
    "model.fit_generator(myGene,steps_per_epoch=300,epochs=20,callbacks=[model_checkpoint])"
   ]
  },
  {
   "cell_type": "markdown",
   "id": "0f150f33-2f42-46b1-a44b-fcb9238d44a0",
   "metadata": {},
   "source": [
    "The end of codes"
   ]
  },
  {
   "cell_type": "code",
   "execution_count": null,
   "id": "8c48287a-b60f-4e95-a2b3-b9b93f0978d7",
   "metadata": {},
   "outputs": [],
   "source": []
  }
 ],
 "metadata": {
  "kernelspec": {
   "display_name": "JS",
   "language": "python",
   "name": "js"
  },
  "language_info": {
   "codemirror_mode": {
    "name": "ipython",
    "version": 3
   },
   "file_extension": ".py",
   "mimetype": "text/x-python",
   "name": "python",
   "nbconvert_exporter": "python",
   "pygments_lexer": "ipython3",
   "version": "3.7.7"
  }
 },
 "nbformat": 4,
 "nbformat_minor": 5
}
