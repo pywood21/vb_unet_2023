{
 "cells": [
  {
   "cell_type": "markdown",
   "id": "3f934f2c-7259-4414-ac8f-6da7a42e76b7",
   "metadata": {},
   "source": [
    "### 002:  codes for segmentation"
   ]
  },
  {
   "cell_type": "markdown",
   "id": "734d6277-a4b9-44cf-af6e-0e19905c5dd4",
   "metadata": {},
   "source": [
    "Read microscope images in the target directory, split them into patch images and predict VB area using the UNET model.\n",
    "Generated segmented patches are then reassembled to the images and stored in r_target directory as original_filename+_predicted.png."
   ]
  },
  {
   "cell_type": "code",
   "execution_count": 1,
   "id": "c3babe8f-7b37-4024-a812-bcdac363c0bc",
   "metadata": {},
   "outputs": [
    {
     "name": "stderr",
     "output_type": "stream",
     "text": [
      "2023-08-19 17:38:06.383809: I tensorflow/core/platform/cpu_feature_guard.cc:151] This TensorFlow binary is optimized with oneAPI Deep Neural Network Library (oneDNN) to use the following CPU instructions in performance-critical operations:  AVX2 AVX512F FMA\n",
      "To enable them in other operations, rebuild TensorFlow with the appropriate compiler flags.\n",
      "2023-08-19 17:38:07.898673: I tensorflow/core/common_runtime/gpu/gpu_device.cc:1525] Created device /job:localhost/replica:0/task:0/device:GPU:0 with 46717 MB memory:  -> device: 0, name: NVIDIA RTX A6000, pci bus id: 0000:1a:00.0, compute capability: 8.6\n",
      "2023-08-19 17:38:07.900392: I tensorflow/core/common_runtime/gpu/gpu_device.cc:1525] Created device /job:localhost/replica:0/task:0/device:GPU:1 with 46717 MB memory:  -> device: 1, name: NVIDIA RTX A6000, pci bus id: 0000:67:00.0, compute capability: 8.6\n",
      "2023-08-19 17:38:07.901964: I tensorflow/core/common_runtime/gpu/gpu_device.cc:1525] Created device /job:localhost/replica:0/task:0/device:GPU:2 with 46690 MB memory:  -> device: 2, name: NVIDIA RTX A6000, pci bus id: 0000:68:00.0, compute capability: 8.6\n",
      "/home/sugiyama/venv/JS/lib/python3.7/site-packages/ipykernel_launcher.py:42: UserWarning: `Model.predict_generator` is deprecated and will be removed in a future version. Please use `Model.predict`, which supports generators.\n",
      "2023-08-19 17:38:09.802599: I tensorflow/stream_executor/cuda/cuda_dnn.cc:368] Loaded cuDNN version 8201\n"
     ]
    },
    {
     "name": "stdout",
     "output_type": "stream",
     "text": [
      "12/12 [==============================] - 3s 14ms/step\n",
      "14/14 [==============================] - 0s 14ms/step\n",
      "12/12 [==============================] - 0s 14ms/step\n",
      "12/12 [==============================] - 0s 14ms/step\n",
      "12/12 [==============================] - 0s 14ms/step\n",
      "14/14 [==============================] - 0s 13ms/step\n",
      "12/12 [==============================] - 0s 14ms/step\n",
      "12/12 [==============================] - 0s 14ms/step\n",
      "14/14 [==============================] - 0s 13ms/step\n",
      "14/14 [==============================] - 0s 13ms/step\n",
      "12/12 [==============================] - 0s 14ms/step\n",
      "12/12 [==============================] - 0s 13ms/step\n",
      "18/18 [==============================] - 0s 14ms/step\n",
      "12/12 [==============================] - 0s 14ms/step\n",
      "12/12 [==============================] - 0s 12ms/step\n",
      "12/12 [==============================] - 0s 14ms/step\n",
      "12/12 [==============================] - 0s 13ms/step\n",
      "12/12 [==============================] - 0s 13ms/step\n",
      "14/14 [==============================] - 0s 15ms/step\n",
      "14/14 [==============================] - 0s 14ms/step\n",
      "12/12 [==============================] - 0s 14ms/step\n",
      "12/12 [==============================] - 0s 14ms/step\n",
      "12/12 [==============================] - 0s 14ms/step\n",
      "12/12 [==============================] - 0s 14ms/step\n",
      "14/14 [==============================] - 0s 13ms/step\n",
      "12/12 [==============================] - 0s 12ms/step\n",
      "12/12 [==============================] - 0s 13ms/step\n",
      "12/12 [==============================] - 1s 15ms/step\n",
      "14/14 [==============================] - 0s 11ms/step\n"
     ]
    }
   ],
   "source": [
    "from common.data_prep import *\n",
    "from common.model import *\n",
    "from common.img_patch import *\n",
    "\n",
    "\n",
    "# target image for segmentation\n",
    "target = './_test'\n",
    "\n",
    "# define your job number under _run directory\n",
    "job_num = '001'\n",
    "# set reduction_factor of the initial image \n",
    "r_f = 2\n",
    "\n",
    "\n",
    "set_dir(os.path.join('./_run',job_num,'segmentation')) # segmented VB areas of test images\n",
    "#set_dir(os.path.join('./_run',job_num,'morphology')) # calculated VB morphological parameters\n",
    "#set_dir(os.path.join('./_run',job_num,'extracted_VB_images')) # extracted VBs along the radial positions\n",
    "\n",
    "           \n",
    "target ='./_test'\n",
    "r_target = os.path.join('./_run',job_num,'segmentation')\n",
    "\n",
    "\n",
    "file_list=sorted([filename for filename in os.listdir(target) if not filename.startswith('.')])\n",
    "\n",
    "\n",
    "for fln in range(len(file_list)):\n",
    "    img_path=os.path.join(target, file_list[fln])\n",
    "    res_path=os.path.join(r_target, file_list[fln])\n",
    "    img=io.imread(img_path, as_gray=True) # gray scale\n",
    "\n",
    "    # r_f=2 #factor of image reduction\n",
    "    px=int(img.shape[0]/r_f)\n",
    "    py=int(img.shape[1]/r_f)\n",
    "    img_s=trans.resize(img, (px,py))\n",
    "    # making image patch of 512*512 )\n",
    "    testdata = patch_Gen(img_s)\n",
    "    pos = patch_Counter(img_s)\n",
    "    # predicton of vascular bundles by UNET        \n",
    "    model = unet()\n",
    "    model.load_weights(os.path.join('./_run',job_num, 'model','unet_moso_2.hdf5'))\n",
    "    results = model.predict_generator(testdata,len(pos),verbose=1)\n",
    "    #saveResult(\"./prediction\",results)\n",
    "    # reassemble to the image\n",
    "    rec_img=patch_Assemble(img_s, results)\n",
    "    rec_img=img_as_ubyte(rec_img)\n",
    "    #　合成された画像を保存\n",
    "    cv2.imwrite(res_path.replace('.png', '_predicted.png'),rec_img)"
   ]
  },
  {
   "cell_type": "code",
   "execution_count": null,
   "id": "f0520be3-b026-4a9e-b067-977b92982f3d",
   "metadata": {},
   "outputs": [],
   "source": []
  },
  {
   "cell_type": "code",
   "execution_count": null,
   "id": "398ab494-1311-406f-ac1e-6fe7e4013794",
   "metadata": {},
   "outputs": [],
   "source": []
  }
 ],
 "metadata": {
  "kernelspec": {
   "display_name": "JS",
   "language": "python",
   "name": "js"
  },
  "language_info": {
   "codemirror_mode": {
    "name": "ipython",
    "version": 3
   },
   "file_extension": ".py",
   "mimetype": "text/x-python",
   "name": "python",
   "nbconvert_exporter": "python",
   "pygments_lexer": "ipython3",
   "version": "3.7.7"
  }
 },
 "nbformat": 4,
 "nbformat_minor": 5
}
